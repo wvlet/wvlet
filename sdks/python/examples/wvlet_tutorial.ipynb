{
 "cells": [
  {
   "cell_type": "markdown",
   "metadata": {},
   "source": [
    "# Wvlet Python SDK Tutorial\n",
    "\n",
    "This notebook provides an interactive tutorial for the Wvlet Python SDK, demonstrating how to use Wvlet's flow-style query language to write more intuitive and maintainable SQL queries.\n",
    "\n",
    "## Installation\n",
    "\n",
    "First, install the Wvlet Python SDK:"
   ]
  },
  {
   "cell_type": "code",
   "execution_count": null,
   "metadata": {},
   "outputs": [],
   "source": [
    "# Install Wvlet (uncomment if not already installed)\n",
    "# !pip install wvlet\n",
    "\n",
    "# Import the library\n",
    "from wvlet import compile\n",
    "from wvlet.compiler import WvletCompiler"
   ]
  },
  {
   "cell_type": "markdown",
   "metadata": {},
   "source": [
    "## 1. Basic Query Compilation\n",
    "\n",
    "Let's start with simple query examples to understand Wvlet's flow-style syntax."
   ]
  },
  {
   "cell_type": "code",
   "execution_count": null,
   "metadata": {},
   "outputs": [],
   "source": [
    "# Simple SELECT query\n",
    "wvlet_query = \"from employees select name, department, salary\"\n",
    "sql = compile(wvlet_query)\n",
    "print(\"Wvlet Query:\")\n",
    "print(wvlet_query)\n",
    "print(\"\\nCompiled SQL:\")\n",
    "print(sql)"
   ]
  },
  {
   "cell_type": "code",
   "execution_count": null,
   "metadata": {},
   "outputs": [],
   "source": [
    "# Query with WHERE clause\n",
    "wvlet_query = \"\"\"\n",
    "from employees \n",
    "where salary > 50000 and department = 'Engineering'\n",
    "select name, salary\n",
    "order by salary desc\n",
    "\"\"\"\n",
    "sql = compile(wvlet_query)\n",
    "print(\"Filtered query SQL:\")\n",
    "print(sql)"
   ]
  },
  {
   "cell_type": "markdown",
   "metadata": {},
   "source": [
    "## 2. Aggregations and Grouping\n",
    "\n",
    "Wvlet makes aggregations more readable by following a logical flow."
   ]
  },
  {
   "cell_type": "code",
   "metadata": {},
   "outputs": [],
   "source": "# Department statistics\nwvlet_query = \"\"\"\nfrom employees\ngroup by department\nagg \n    count(*) as employee_count,\n    avg(salary) as avg_salary,\n    min(salary) as min_salary,\n    max(salary) as max_salary\nhaving count(*) > 5\norder by avg_salary desc\n\"\"\"\n\nsql = compile(wvlet_query)\nprint(\"Aggregation SQL:\")\nprint(sql)"
  },
  {
   "cell_type": "markdown",
   "metadata": {},
   "source": [
    "## 3. Joining Tables\n",
    "\n",
    "Wvlet supports various join types with intuitive syntax."
   ]
  },
  {
   "cell_type": "code",
   "execution_count": null,
   "metadata": {},
   "outputs": [],
   "source": [
    "# Inner join example\n",
    "wvlet_query = \"\"\"\n",
    "from orders o\n",
    "join customers c on o.customer_id = c.id\n",
    "join products p on o.product_id = p.id\n",
    "where o.order_date >= '2024-01-01'\n",
    "select \n",
    "    o.order_id,\n",
    "    c.name as customer_name,\n",
    "    p.name as product_name,\n",
    "    o.quantity,\n",
    "    p.price * o.quantity as total_amount\n",
    "\"\"\"\n",
    "\n",
    "sql = compile(wvlet_query)\n",
    "print(\"Join query SQL:\")\n",
    "print(sql)"
   ]
  },
  {
   "cell_type": "markdown",
   "metadata": {},
   "source": [
    "## 4. Models (CTEs)\n",
    "\n",
    "Models in Wvlet are like CTEs (Common Table Expressions) but more intuitive to write and compose."
   ]
  },
  {
   "cell_type": "code",
   "metadata": {},
   "outputs": [],
   "source": "# Using models for complex analysis\nwvlet_query = \"\"\"\nmodel HighValueCustomers = {\n    from orders\n    group by customer_id\n    agg sum(total_amount) as lifetime_value\n    having sum(total_amount) > 10000\n}\n\nmodel RecentOrders = {\n    from orders\n    where order_date > current_date - 30\n    group by customer_id\n    agg count(*) as recent_order_count\n}\n\nfrom HighValueCustomers hvc\njoin RecentOrders ro on hvc.customer_id = ro.customer_id\nselect \n    hvc.customer_id,\n    hvc.lifetime_value,\n    ro.recent_order_count\norder by lifetime_value desc\n\"\"\"\n\nsql = compile(wvlet_query)\nprint(\"Complex query with models:\")\nprint(sql)"
  },
  {
   "cell_type": "markdown",
   "metadata": {},
   "source": [
    "## 5. Window Functions\n",
    "\n",
    "Wvlet supports all standard SQL window functions with cleaner syntax."
   ]
  },
  {
   "cell_type": "code",
   "execution_count": null,
   "metadata": {},
   "outputs": [],
   "source": [
    "# Ranking and running totals\n",
    "wvlet_query = \"\"\"\n",
    "from sales\n",
    "select \n",
    "    date,\n",
    "    product_id,\n",
    "    amount,\n",
    "    row_number() over (partition by product_id order by amount desc) as rank_by_product,\n",
    "    sum(amount) over (order by date) as running_total,\n",
    "    avg(amount) over (\n",
    "        partition by product_id \n",
    "        order by date \n",
    "        rows between 6 preceding and current row\n",
    "    ) as moving_avg_7days\n",
    "\"\"\"\n",
    "\n",
    "sql = compile(wvlet_query)\n",
    "print(\"Window functions SQL:\")\n",
    "print(sql)"
   ]
  },
  {
   "cell_type": "markdown",
   "metadata": {},
   "source": [
    "## 6. Advanced Features\n",
    "\n",
    "### Pivot Operations"
   ]
  },
  {
   "cell_type": "code",
   "metadata": {},
   "outputs": [],
   "source": "# Pivot example\nwvlet_query = \"\"\"\nfrom sales\ngroup by product_category\npivot sum(amount) for month in ('Jan', 'Feb', 'Mar', 'Apr')\n\"\"\"\n\nsql = compile(wvlet_query)\nprint(\"Pivot SQL:\")\nprint(sql)"
  },
  {
   "cell_type": "markdown",
   "metadata": {},
   "source": [
    "### UNNEST Operations"
   ]
  },
  {
   "cell_type": "code",
   "execution_count": null,
   "metadata": {},
   "outputs": [],
   "source": [
    "# Working with arrays\n",
    "wvlet_query = \"\"\"\n",
    "from users\n",
    "cross join unnest(tags) as tag\n",
    "where tag in ('premium', 'active')\n",
    "select user_id, email, tag\n",
    "\"\"\"\n",
    "\n",
    "sql = compile(wvlet_query)\n",
    "print(\"UNNEST SQL:\")\n",
    "print(sql)"
   ]
  },
  {
   "cell_type": "markdown",
   "metadata": {},
   "source": [
    "## 7. Target-Specific Compilation\n",
    "\n",
    "Wvlet can generate optimized SQL for different database engines."
   ]
  },
  {
   "cell_type": "code",
   "metadata": {},
   "outputs": [],
   "source": "# Same query, different targets\nwvlet_query = \"\"\"\nfrom logs\nwhere timestamp > current_timestamp - interval '1 hour'\ngroup by date_trunc('minute', timestamp) as minute\nagg count(*) as event_count\n\"\"\"\n\n# Compile for different databases\nfor target in ['duckdb', 'trino']:\n    compiler = WvletCompiler(target=target)\n    sql = compiler.compile(wvlet_query)\n    print(f\"\\n{target.upper()} SQL:\")\n    print(sql)"
  },
  {
   "cell_type": "markdown",
   "metadata": {},
   "source": [
    "## 8. Real-World Example: Customer Analytics Dashboard\n",
    "\n",
    "Let's build a complete customer analytics query using Wvlet."
   ]
  },
  {
   "cell_type": "code",
   "metadata": {},
   "outputs": [],
   "source": "# Comprehensive customer analytics\nwvlet_query = \"\"\"\n-- Define customer segments based on behavior\nmodel CustomerMetrics = {\n    from orders\n    group by customer_id\n    agg \n        count(*) as order_count,\n        sum(total_amount) as lifetime_value,\n        avg(total_amount) as avg_order_value,\n        max(order_date) as last_order_date,\n        datediff('day', max(order_date), current_date) as days_since_last_order\n}\n\nmodel CustomerSegments = {\n    from CustomerMetrics\n    select \n        customer_id,\n        lifetime_value,\n        order_count,\n        case \n            when lifetime_value > 10000 then 'VIP'\n            when lifetime_value > 5000 then 'High Value'\n            when lifetime_value > 1000 then 'Regular'\n            else 'Low Value'\n        end as value_segment,\n        case\n            when days_since_last_order <= 30 then 'Active'\n            when days_since_last_order <= 90 then 'At Risk'\n            when days_since_last_order <= 180 then 'Dormant'\n            else 'Churned'\n        end as activity_segment\n}\n\n-- Analyze segments\nfrom CustomerSegments\ngroup by value_segment, activity_segment\nagg \n    count(*) as customer_count,\n    sum(lifetime_value) as total_revenue,\n    avg(lifetime_value) as avg_customer_value,\n    avg(order_count) as avg_orders_per_customer\norder by value_segment, activity_segment\n\"\"\"\n\nsql = compile(wvlet_query)\nprint(\"Customer Analytics SQL:\")\nprint(sql)"
  },
  {
   "cell_type": "markdown",
   "metadata": {},
   "source": [
    "## 9. Integration with Pandas and DuckDB\n",
    "\n",
    "Here's how to use Wvlet-generated SQL with actual data processing."
   ]
  },
  {
   "cell_type": "code",
   "metadata": {},
   "outputs": [],
   "source": "# Example with DuckDB (if installed)\ntry:\n    import duckdb\n    import pandas as pd\n    import numpy as np\n    \n    # Create sample data\n    np.random.seed(42)\n    df_sales = pd.DataFrame({\n        'date': pd.date_range('2024-01-01', periods=100, freq='D'),\n        'product': np.random.choice(['A', 'B', 'C'], 100),\n        'amount': np.random.uniform(100, 1000, 100).round(2),\n        'quantity': np.random.randint(1, 10, 100)\n    })\n    \n    # Register DataFrame with DuckDB\n    conn = duckdb.connect(':memory:')\n    conn.register('sales_data', df_sales)\n    \n    # Use Wvlet to generate analysis query\n    wvlet_query = \"\"\"\n    from sales_data\n    group by product\n    agg \n        count(*) as num_sales,\n        sum(amount) as total_revenue,\n        avg(amount) as avg_sale,\n        sum(quantity) as total_units\n    order by total_revenue desc\n    \"\"\"\n    \n    sql = compile(wvlet_query, target='duckdb')\n    result = conn.execute(sql).fetchdf()\n    \n    print(\"Product Performance:\")\n    print(result)\n    \nexcept ImportError:\n    print(\"DuckDB not installed. Install with: pip install duckdb\")"
  },
  {
   "cell_type": "markdown",
   "metadata": {},
   "source": [
    "## 10. Error Handling and Best Practices"
   ]
  },
  {
   "cell_type": "code",
   "execution_count": null,
   "metadata": {},
   "outputs": [],
   "source": [
    "from wvlet.compiler import CompilationError\n",
    "\n",
    "# Example of handling compilation errors\n",
    "queries = [\n",
    "    \"from users select *\",  # Valid\n",
    "    \"select * where id = 1\",  # Missing FROM\n",
    "    \"from users select count(*) group\",  # Incomplete GROUP BY\n",
    "]\n",
    "\n",
    "for query in queries:\n",
    "    try:\n",
    "        sql = compile(query)\n",
    "        print(f\"✓ Valid query compiled successfully\")\n",
    "    except CompilationError as e:\n",
    "        print(f\"✗ Compilation error: {e}\")\n",
    "    except Exception as e:\n",
    "        print(f\"✗ Unexpected error: {type(e).__name__}: {e}\")"
   ]
  },
  {
   "cell_type": "markdown",
   "metadata": {},
   "source": [
    "## Summary\n",
    "\n",
    "This tutorial covered:\n",
    "\n",
    "1. **Basic Syntax**: Wvlet's flow-style query structure\n",
    "2. **Aggregations**: GROUP BY and HAVING clauses\n",
    "3. **Joins**: Multiple table joins with intuitive syntax\n",
    "4. **Models**: Reusable query components (CTEs)\n",
    "5. **Window Functions**: Advanced analytical queries\n",
    "6. **Advanced Features**: PIVOT, UNNEST, and more\n",
    "7. **Target-Specific SQL**: Optimized for different databases\n",
    "8. **Real-World Examples**: Complete analytical workflows\n",
    "9. **Integration**: Using with pandas and DuckDB\n",
    "10. **Error Handling**: Best practices for production use\n",
    "\n",
    "### Next Steps\n",
    "\n",
    "- Explore the [Wvlet documentation](https://wvlet.org/docs/)\n",
    "- Try Wvlet with your own data and queries\n",
    "- Integrate Wvlet into your data pipeline\n",
    "- Contribute to the [Wvlet project](https://github.com/wvlet/wvlet)"
   ]
  }
 ],
 "metadata": {
  "kernelspec": {
   "display_name": "Python 3",
   "language": "python",
   "name": "python3"
  },
  "language_info": {
   "codemirror_mode": {
    "name": "ipython",
    "version": 3
   },
   "file_extension": ".py",
   "mimetype": "text/x-python",
   "name": "python",
   "nbconvert_exporter": "python",
   "pygments_lexer": "ipython3",
   "version": "3.9.0"
  }
 },
 "nbformat": 4,
 "nbformat_minor": 4
}